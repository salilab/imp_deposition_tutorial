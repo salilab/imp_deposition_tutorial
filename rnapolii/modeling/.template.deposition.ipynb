{
 "cells": [
  {
   "cell_type": "markdown",
   "metadata": {},
   "source": [
    "%intersphinx https://python-ihm.readthedocs.io/en/latest\n",
    "\n",
    "Deposition of integrative models {#mainpage}\n",
    "========================\n",
    "\n",
    "[TOC]"
   ]
  },
  {
   "cell_type": "markdown",
   "metadata": {},
   "source": [
    "# Introduction {#introduction}\n",
    "\n",
    "In this tutorial we will introduce the procedure used to deposit integrative modeling studies in the [PDB-Dev](https://pdb-dev.wwpdb.org/) database in mmCIF format.\n",
    "\n",
    "We will demonstrate the procedure using [IMP](https://integrativemodeling.org/) and its PMI module, but the database will accept integrative models from any software, as long as they are compliant mmCIF files (e.g. there are several HADDOCK and Rosetta models already in PDB-Dev)."
   ]
  },
  {
   "cell_type": "markdown",
   "metadata": {},
   "source": [
    "%%htmlonly\n",
    "This tutorial can be followed in several ways:\n",
    "\n",
    " - Download the files using the \"Clone or download\" link at the [tutorial's GitHub page](https://github.com/salilab/imp_deposition_tutorial/) and use them in conjunction with this text.\n",
    " - [Download the files from GitHub](https://github.com/salilab/imp_deposition_tutorial/) and, using [Jupyter Notebook](https://jupyter.org/), open the notebook `rnapolii/modeling/deposition.ipynb`.\n",
    " - [Load the tutorial directly in your browser](https://colab.research.google.com/github/salilab/imp_deposition_tutorial/blob/main/rnapolii/modeling/deposition-colab.ipynb), courtesy of [Google Colaboratory](https://colab.research.google.com/). (This needs no software installed on your machine, but may take a while to load.)"
   ]
  },
  {
   "cell_type": "markdown",
   "metadata": {},
   "source": [
    "# Why PDB-Dev? {#whypdbdev}\n",
    "\n",
    "PDB-Dev is a database run by the wwPDB. It is specifically for the deposition of *integrative* models, i.e. models generated using more than one source of experimental data. (Models that use only one experiment generally go in PDB; models that use no experimental information - theoretical models - go in [ModelArchive](https://www.modelarchive.org/))."
   ]
  },
  {
   "cell_type": "markdown",
   "metadata": {},
   "source": [
    "# Why mmCIF? {#whymmcif}\n",
    "\n",
    "wwPDB already uses the mmCIF file format for X-ray structures, and has a formal data model ([PDBx](http://mmcif.wwpdb.org/)) to describe these structures. The format is *extensible*; extension dictionaries exist to describe NMR, SAS, EM data, etc. For integrative models, we use PDBx plus an \"integrative/hybrid methods\" (IHM) [extension dictionary](http://mmcif.wwpdb.org/dictionaries/mmcif_ihm.dic/Index/). This supports coarse-grained structures, multiple input experimental data sources, multiple states, multiple scales, and ensembles related by time or other order."
   ]
  },
  {
   "cell_type": "markdown",
   "metadata": {},
   "source": [
    "# Study versus single model {#studyvmodel}\n",
    "\n",
    "A frequently asked question is whether mmCIF files can be generated directly from an ``IMP::Model`` or an\n",
    "[RMF file](https://integrativemodeling.org/rmf/). This generally isn't possible because RMF and ``IMP::Model`` are designed to store one or more output models, where each model is a set of coordinates for a single conformation of the system being studied. A deposition, on the other hand, aims to cover a complete modeling study, and should capture the entire ensemble of output models, all of the input data needed to reproduce the modeling, and quality metrics such as the precision of the ensemble and the degree to which it fits the output data. A deposition is also designed to\n",
    "be visualized, and so may contain additional data not used in the modeling itself, such as preset colors or views to match figures in the publication or highlight regions of interest, and more human-descriptive names for parts\n",
    "of the system. Thus, deposition is largely a data-gathering exercise, and benefits from a modeling study being tidy and well organized (for example, by storing it in a [GitHub](https://github.com) repository) so that data is easy to find and track to its source."
   ]
  },
  {
   "cell_type": "markdown",
   "metadata": {},
   "source": [
    "# File format {#fileformat}\n",
    "\n",
    "The file format used by PDB for deposition of integrative modeling studies is the same [mmCIF format](http://mmcif.wwpdb.org/) that is used for crystal structures, with extensions (the [Integrative/Hybrid Methods (IHM) dictionary](http://mmcif.wwpdb.org/dictionaries/mmcif_ihm.dic/Index/)) to support coarse-grained structures, multiple input experimental data sources, multiple states, multiple scales, and ensembles related by time or other order. Currently, models that are compliant with the IHM dictionary can be deposited in the [PDB-Dev](https://pdb-dev.wwpdb.org/) database.\n",
    "\n",
    "mmCIF is a text format with a well-defined syntax, so in principle files could be generated by hand or with simple scripts. However, it is generally easier to use the existing [python-ihm](https://github.com/ihmwg/python-ihm)\n",
    "library. This stores the same data as in an mmCIF file, but represents it as a set of Python classes, so it is easier to manipulate. IMP includes a copy of the python-ihm library, and uses it internally to read and write mmCIF files.\n",
    "\n",
    "There are two main approaches to generating an mmCIF file for deposition:\n",
    "\n",
    " 1. Use the [python-ihm](https://github.com/ihmwg/python-ihm) library directly, by writing a Python script that reads in output models and input data, adds annotations, and writes out an mmCIF file.\n",
    " 2. Use the ``~IMP::pmi::mmcif::ProtocolOutput`` class to automatically capture an entire ``IMP::pmi`` modeling protocol.\n",
    "\n",
    "The first approach offers the greatest flexibility for custom protocols or for modeling outside of IMP itself, but does require everything to be done manually. For a good example of this approach, see the [modeling of Nup133](https://github.com/integrativemodeling/nup133/tree/main/outputs_foxs_ensemble_new/pdb-dev). (One example of the tradeoff between flexibility and manual coding: the cross-links used in the study are stored in a [plain text file](https://github.com/integrativemodeling/nup133/blob/main/Crosslinks/DSS_EDC_crosslinks.txt) so a [custom Python class](https://github.com/integrativemodeling/nup133/blob/main/outputs_foxs_ensemble_new/pdb-dev/xlink.py) had to be written to parse them.)\n",
    "\n",
    "The second approach will be explored in this tutorial."
   ]
  },
  {
   "cell_type": "markdown",
   "metadata": {},
   "source": [
    "# Basic usage of ProtocolOutput {#basicusage}\n",
    "\n",
    "``~IMP::pmi::mmcif::ProtocolOutput`` is designed to be attached to a top-level PMI object (usually ``IMP::pmi::topology::System``). Then, as the script is run, it will capture all of the information about the modeling\n",
    "study, in an ``ihm.System`` object. Additional information not in the modeling script itself, such as the\n",
    "resulting publication, can be added using the [python-ihm API](https://python-ihm.readthedocs.io/en/latest/usage.html)."
   ]
  },
  {
   "cell_type": "markdown",
   "metadata": {},
   "source": [
    "%%colabonly\n",
    "We will demonstrate ProtocolOutput by using it to make a deposition of the RNA Pol II stalk modeling, as covered in the [introductory PMI tutorial](https://integrativemodeling.org/tutorials/rnapolii_stalk/). First, we need to install IMP:"
   ]
  },
  {
   "cell_type": "code",
   "execution_count": null,
   "metadata": {},
   "outputs": [],
   "source": [
    "#%%colabonly\n",
    "!echo \"deb https://integrativemodeling.org/latest/download $(lsb_release -cs)/\" > /etc/apt/sources.list.d/salilab.list\n",
    "!wget -O /etc/apt/trusted.gpg.d/salilab.asc https://salilab.org/~ben/pubkey4.asc\n",
    "!apt update\n",
    "!apt install imp\n",
    "import sys\n",
    "sys.path.append('/usr/lib/python3.6/dist-packages')"
   ]
  },
  {
   "cell_type": "markdown",
   "metadata": {},
   "source": [
    "%%colabonly\n",
    "Next, download the files for this tutorial from GitHub:"
   ]
  },
  {
   "cell_type": "code",
   "execution_count": null,
   "metadata": {},
   "outputs": [],
   "source": [
    "#%%colabonly\n",
    "!git clone https://github.com/salilab/imp_deposition_tutorial.git\n",
    "%cd imp_deposition_tutorial/rnapolii/modeling/"
   ]
  },
  {
   "cell_type": "markdown",
   "metadata": {},
   "source": [
    "%%colabexclude\n",
    "\n",
    "We will demonstrate ProtocolOutput by using it to make a deposition of the RNA Pol II stalk modeling, as covered in the [introductory PMI tutorial](https://integrativemodeling.org/tutorials/rnapolii_stalk/). First, download the files for this tutorial by using the \"Clone or download\" link at the [tutorial's GitHub page](https://github.com/salilab/imp_deposition_tutorial/)."
   ]
  },
  {
   "cell_type": "markdown",
   "metadata": {},
   "source": [
    "We will then modify the `modeling.py` script from the introductory tutorial, calling it [deposition.py](https://github.com/salilab/imp_deposition_tutorial/blob/main/rnapolii/modeling/deposition.py) in the `rnapolii/modeling` subdirectory, to capture the study as mmCIF.\n",
    "\n",
    "The first modification to `deposition.py` is to import the PMI mmCIF and python-ihm Python modules:"
   ]
  },
  {
   "cell_type": "code",
   "execution_count": null,
   "metadata": {},
   "outputs": [],
   "source": [
    "# Imports needed to use ProtocolOutput\n",
    "import IMP.pmi.mmcif\n",
    "import ihm\n",
    "import ihm.location\n",
    "import ihm.model"
   ]
  },
  {
   "cell_type": "markdown",
   "metadata": {},
   "source": [
    "%%htmlexclude\n",
    "The script then runs unchanged, as in the original PMI tutorial, to set up the topology:"
   ]
  },
  {
   "cell_type": "code",
   "execution_count": null,
   "metadata": {},
   "outputs": [],
   "source": [
    "#%%htmlexclude\n",
    "import IMP\n",
    "import IMP.core\n",
    "import IMP.algebra\n",
    "import IMP.atom\n",
    "import IMP.container\n",
    "\n",
    "import IMP.pmi.restraints.crosslinking\n",
    "import IMP.pmi.restraints.stereochemistry\n",
    "import IMP.pmi.restraints.em\n",
    "import IMP.pmi.restraints.basic\n",
    "import IMP.pmi.tools\n",
    "import IMP.pmi.samplers\n",
    "import IMP.pmi.output\n",
    "import IMP.pmi.macros\n",
    "import IMP.pmi.topology\n",
    "import ihm.cross_linkers\n",
    "\n",
    "import os\n",
    "import sys\n",
    "\n",
    "\n",
    "#---------------------------\n",
    "# Define Input Files\n",
    "#---------------------------\n",
    "datadirectory = \"../data/\"\n",
    "topology_file = datadirectory+\"topology.txt\"\n",
    "target_gmm_file = datadirectory+'emd_1883.map.mrc.gmm.50.txt'\n",
    "\n",
    "# Initialize model\n",
    "m = IMP.Model()\n",
    "\n",
    "# Read in the topology file.\n",
    "# Specify the directory wheere the PDB files, fasta files and GMM files are\n",
    "topology = IMP.pmi.topology.TopologyReader(topology_file,\n",
    "                                  pdb_dir=datadirectory,\n",
    "                                  fasta_dir=datadirectory,\n",
    "                                  gmm_dir=datadirectory)"
   ]
  },
  {
   "cell_type": "markdown",
   "metadata": {},
   "source": [
    "Next, as soon as the top-level ``IMP::pmi::topology::System`` object is created, we attach a ProtocolOutput object (BuildSystem contains a `system` member):"
   ]
  },
  {
   "cell_type": "code",
   "execution_count": null,
   "metadata": {},
   "outputs": [],
   "source": [
    "# Use the BuildSystem macro to build states from the topology file\n",
    "bs = IMP.pmi.macros.BuildSystem(m)\n",
    "\n",
    "# Record the modeling protocol to an mmCIF file\n",
    "po = IMP.pmi.mmcif.ProtocolOutput()\n",
    "bs.system.add_protocol_output(po)\n",
    "po.system.title = \"Modeling of RNA Pol II\"\n",
    "# Add publication\n",
    "po.system.citations.append(ihm.Citation.from_pubmed_id(25161197))"
   ]
  },
  {
   "cell_type": "markdown",
   "metadata": {},
   "source": [
    "Note that the ProtocolOutput object `po` simply wraps an ``ihm.System`` object as `po.system`. We can then customize the ``ihm.System`` by setting a human-readable title and adding a citation (here we use\n",
    "``ihm.Citation.from_pubmed_id``, which looks up a citation by PubMed ID - this particular PubMed ID is\n",
    "actually for the previously-published [modeling of the Nup84 complex](https://salilab.org/nup84/))."
   ]
  },
  {
   "cell_type": "markdown",
   "metadata": {},
   "source": [
    "%%htmlexclude\n",
    "Now the original script proceeds as before, setting up the representation and restraints:"
   ]
  },
  {
   "cell_type": "code",
   "execution_count": null,
   "metadata": {},
   "outputs": [],
   "source": [
    "#%%htmlexclude\n",
    "# Each state can be specified by a topology file.\n",
    "bs.add_state(topology)\n",
    "\n",
    "# Build the system representation and degrees of freedom\n",
    "root_hier, dof = bs.execute_macro(max_rb_trans=4.0,\n",
    "                                  max_rb_rot=0.3,\n",
    "                                  max_bead_trans=4.0,\n",
    "                                  max_srb_trans=4.0,\n",
    "                                  max_srb_rot=0.3)\n",
    "\n",
    "# Fix all rigid bodies but not Rpb4 and Rpb7 (the stalk)\n",
    "# First select and gather all particles to fix.\n",
    "fixed_particles=[]\n",
    "for prot in [\"Rpb1\",\"Rpb2\",\"Rpb3\",\"Rpb5\",\"Rpb6\",\"Rpb8\",\"Rpb9\",\"Rpb10\",\"Rpb11\",\"Rpb12\"]:\n",
    "    fixed_particles+=IMP.atom.Selection(root_hier,molecule=prot).get_selected_particles()\n",
    "\n",
    "# Fix the Corresponding Rigid movers and Super Rigid Body movers using dof\n",
    "# The flexible beads will still be flexible (fixed_beads is an empty list)!\n",
    "fixed_beads,fixed_rbs=dof.disable_movers(fixed_particles,\n",
    "                                         [IMP.core.RigidBodyMover,\n",
    "                                          IMP.pmi.TransformMover])\n",
    "\n",
    "# Randomize the initial configuration before sampling, of only the molecules\n",
    "# we are interested in (Rpb4 and Rpb7)\n",
    "IMP.pmi.tools.shuffle_configuration(root_hier,\n",
    "                                    excluded_rigid_bodies=fixed_rbs,\n",
    "                                    max_translation=50,\n",
    "                                    verbose=False,\n",
    "                                    cutoff=5.0,\n",
    "                                    niterations=100)\n",
    "\n",
    "outputobjects = [] # reporter objects (for stat files)\n",
    "\n",
    "#-----------------------------------\n",
    "# Define Scoring Function Components\n",
    "#-----------------------------------\n",
    "\n",
    "# Here we are defining a number of restraints on our system.\n",
    "#  For all of them we call add_to_model() so they are incorporated into scoring\n",
    "#  We also add them to the outputobjects list, so they are reported in stat files\n",
    "\n",
    "# Connectivity keeps things connected along the backbone (ignores if inside\n",
    "# same rigid body)\n",
    "mols = IMP.pmi.tools.get_molecules(root_hier)\n",
    "for mol in mols:\n",
    "    molname=mol.get_name()\n",
    "    IMP.pmi.tools.display_bonds(mol)\n",
    "    cr = IMP.pmi.restraints.stereochemistry.ConnectivityRestraint(mol,scale=2.0)\n",
    "    cr.add_to_model()\n",
    "    cr.set_label(molname)\n",
    "    outputobjects.append(cr)\n",
    "\n",
    "# Excluded Volume Restraint\n",
    "#  To speed up this expensive restraint, we operate it at resolution 20\n",
    "ev = IMP.pmi.restraints.stereochemistry.ExcludedVolumeSphere(\n",
    "                                         included_objects=root_hier,\n",
    "                                         resolution=10)\n",
    "ev.add_to_model()\n",
    "outputobjects.append(ev)\n",
    "\n",
    "\n",
    "# Crosslinks - dataset 1\n",
    "#  To use this restraint we have to first define the data format\n",
    "#  Here assuming that it's a CSV file with column names that may need to change\n",
    "#  Other options include the linker length and the slope (for nudging components together)\n",
    "xldbkwc = IMP.pmi.io.crosslink.CrossLinkDataBaseKeywordsConverter()\n",
    "xldbkwc.set_protein1_key(\"pep1.accession\")\n",
    "xldbkwc.set_protein2_key(\"pep2.accession\")\n",
    "xldbkwc.set_residue1_key(\"pep1.xlinked_aa\")\n",
    "xldbkwc.set_residue2_key(\"pep2.xlinked_aa\")\n",
    "\n",
    "xl1db = IMP.pmi.io.crosslink.CrossLinkDataBase(xldbkwc)\n",
    "xl1db.create_set_from_file(datadirectory+'polii_xlinks.csv')\n",
    "\n",
    "xl1 = IMP.pmi.restraints.crosslinking.CrossLinkingMassSpectrometryRestraint(\n",
    "                                   root_hier=root_hier,\n",
    "                                   database=xl1db,\n",
    "                                   length=21.0,\n",
    "                                   slope=0.01,\n",
    "                                   resolution=1.0,\n",
    "                                   label=\"Trnka\",\n",
    "                                   linker=ihm.cross_linkers.dss,\n",
    "                                   weight=1.)\n",
    "\n",
    "xl1.add_to_model()             # crosslink must be added to the model\n",
    "outputobjects.append(xl1)\n",
    "\n",
    "\n",
    "# Crosslinks - dataset 2\n",
    "#  We can easily add a second set of crosslinks.\n",
    "#  These have a different format and label, but other settings are the same\n",
    "xldbkwc = IMP.pmi.io.crosslink.CrossLinkDataBaseKeywordsConverter()\n",
    "xldbkwc.set_protein1_key(\"prot1\")\n",
    "xldbkwc.set_protein2_key(\"prot2\")\n",
    "xldbkwc.set_residue1_key(\"res1\")\n",
    "xldbkwc.set_residue2_key(\"res2\")\n",
    "\n",
    "xl2db = IMP.pmi.io.crosslink.CrossLinkDataBase(xldbkwc)\n",
    "xl2db.create_set_from_file(datadirectory+'polii_juri.csv')\n",
    "\n",
    "xl2 = IMP.pmi.restraints.crosslinking.CrossLinkingMassSpectrometryRestraint(\n",
    "                                   root_hier=root_hier,\n",
    "                                   database=xl2db,\n",
    "                                   length=21.0,\n",
    "                                   slope=0.01,\n",
    "                                   resolution=1.0,\n",
    "                                   label=\"Chen\",\n",
    "                                   linker=ihm.cross_linkers.bs3,\n",
    "                                   weight=1.)\n",
    "xl2.add_to_model()\n",
    "outputobjects.append(xl2)\n",
    "\n",
    "\n",
    "# Electron Microscopy Restraint\n",
    "#  The GaussianEMRestraint uses a density overlap function to compare model to data\n",
    "#   First the EM map is approximated with a Gaussian Mixture Model (done separately)\n",
    "#   Second, the components of the model are represented with Gaussians (forming the model GMM)\n",
    "#   Other options: scale_to_target_mass ensures the total mass of model and map are identical\n",
    "#                  slope: nudge model closer to map when far away\n",
    "#                  weight: experimental, needed becaues the EM restraint is quasi-Bayesian\n",
    "em_components = IMP.pmi.tools.get_densities(root_hier)\n",
    "\n",
    "gemt = IMP.pmi.restraints.em.GaussianEMRestraint(em_components,\n",
    "                                                 target_gmm_file,\n",
    "                                                 scale_target_to_mass=True,\n",
    "                                                 slope=0.000001,\n",
    "                                                 weight=80.0)\n",
    "gemt.add_to_model()\n",
    "outputobjects.append(gemt)\n",
    "\n",
    "#--------------------------\n",
    "# Monte-Carlo Sampling\n",
    "#--------------------------\n",
    "\n",
    "#--------------------------\n",
    "# Set MC Sampling Parameters\n",
    "#--------------------------\n",
    "num_frames = 20000\n",
    "if '--test' in sys.argv: num_frames=100\n",
    "num_mc_steps = 10"
   ]
  },
  {
   "cell_type": "markdown",
   "metadata": {},
   "source": [
    "As it is generally undesirable to rerun the entire modeling just to generate an mmCIF file, we can save a lot of time when we do the replica exchange by turning on ``~IMP.pmi.macros.ReplicaExchange``'s `test_mode`, which skips the actual Monte Carlo simulation (so we use the previously-generated trajectory):"
   ]
  },
  {
   "cell_type": "code",
   "execution_count": null,
   "metadata": {},
   "outputs": [],
   "source": [
    "# This object defines all components to be sampled as well as the sampling protocol\n",
    "mc1=IMP.pmi.macros.ReplicaExchange0(m,\n",
    "                                    root_hier=root_hier,\n",
    "                                    monte_carlo_sample_objects=dof.get_movers(),\n",
    "                                    output_objects=outputobjects,\n",
    "                                    monte_carlo_temperature=1.0,\n",
    "                                    simulated_annealing=True,\n",
    "                                    simulated_annealing_minimum_temperature=1.0,\n",
    "                                    simulated_annealing_maximum_temperature=2.5,\n",
    "                                    simulated_annealing_minimum_temperature_nframes=200,\n",
    "                                    simulated_annealing_maximum_temperature_nframes=20,\n",
    "                                    replica_exchange_minimum_temperature=1.0,\n",
    "                                    replica_exchange_maximum_temperature=2.5,\n",
    "                                    number_of_best_scoring_models=10,\n",
    "                                    monte_carlo_steps=num_mc_steps,\n",
    "                                    number_of_frames=num_frames,\n",
    "                                    global_output_directory=\"output\",\n",
    "                                    test_mode=True)\n",
    "\n",
    "# Start Sampling\n",
    "mc1.execute_macro()"
   ]
  },
  {
   "cell_type": "markdown",
   "metadata": {},
   "source": [
    "Once we're done with our PMI protocol, we call the [ProtocolOutput.finalize](@ref IMP.pmi.mmcif.ProtocolOutput.finalize) method to collect all of the information about the integrative modeling protocol in ``ihm.System``:"
   ]
  },
  {
   "cell_type": "code",
   "execution_count": null,
   "metadata": {},
   "outputs": [],
   "source": [
    "po.finalize()"
   ]
  },
  {
   "cell_type": "markdown",
   "metadata": {},
   "source": [
    "Note that the ``ihm.System`` object, stored as the `system` attribute of ``~IMP.pmi.mmcif.ProtocolOutput``, contains a full description of the system:"
   ]
  },
  {
   "cell_type": "code",
   "execution_count": null,
   "metadata": {},
   "outputs": [],
   "source": [
    "s = po.system\n",
    "\n",
    "print(\"all subunits:\",\n",
    "      [a.details for a in s.asym_units])\n",
    "\n",
    "print(\"first subunit sequence:\",\n",
    "      \"\".join(r.code for r in s.asym_units[0].entity.sequence))\n",
    "\n",
    "print(\"all restraints on the system:\", s.restraints)"
   ]
  },
  {
   "cell_type": "markdown",
   "metadata": {},
   "source": [
    "Note that python-ihm only knows about three restraints, the two crosslinking restraints and the one EM density restraint, not the connectivity or excluded volume. This is because PDB considers that all *valid* structures satisfy connectivity and excluded volume by definition."
   ]
  },
  {
   "cell_type": "markdown",
   "metadata": {},
   "source": [
    "# mmCIF file format {#mmcif}\n",
    "\n",
    "At this point we have basic information which we can write out to an mmCIF file. Let's do that to get an idea of what the file looks like:"
   ]
  },
  {
   "cell_type": "code",
   "execution_count": null,
   "metadata": {},
   "outputs": [],
   "source": [
    "import ihm.dumper\n",
    "with open('initial.cif', 'w') as fh:\n",
    "    ihm.dumper.write(fh, [s])"
   ]
  },
  {
   "cell_type": "markdown",
   "metadata": {},
   "source": [
    "mmCIF is a simple text format, so we can look at `initial.cif` in any text editor. Some simple data are stored in straightforward key:value pairs, e.g.\n",
    "\n",
    "```\n",
    "_struct.title 'Modeling of RNA Pol II'\n",
    "```\n",
    "\n",
    "More complex data can be stored as a table using a `loop` construct. This lists the fields (headings for the columns) after which the data (as rows) follow, e.g.\n",
    "\n",
    "```\n",
    "loop_\n",
    "_software.pdbx_ordinal\n",
    "_software.name\n",
    "_software.classification\n",
    "_software.description\n",
    "_software.version\n",
    "_software.type\n",
    "_software.location\n",
    "1 'IMP PMI module' 'integrative model building' 'integrative model building'\n",
    "2.12.0 program https://integrativemodeling.org\n",
    "2 'Integrative Modeling Platform (IMP)' 'integrative model building'\n",
    "'integrative model building' 2.12.0 program https://integrativemodeling.org\n",
    "```\n",
    "\n",
    "Missing data are represented by `?` if they are unknown or `.` if they are deliberately omitted (for example if they don't make sense here).\n",
    "\n",
    "In each case both the *categories* ([struct](http://mmcif.wwpdb.org/dictionaries/mmcif_pdbx_v50.dic/Categories/struct.html), [software](http://mmcif.wwpdb.org/dictionaries/mmcif_pdbx_v50.dic/Categories/software.html)) and the *data items* ([title](http://mmcif.wwpdb.org/dictionaries/mmcif_pdbx_v50.dic/Items/_struct.title.html), [pdbx_ordinal](http://mmcif.wwpdb.org/dictionaries/mmcif_pdbx_v50.dic/Items/_software.pdbx_ordinal.html), etc.) are defined by PDB, in the [PDBx dictionary](http://mmcif.wwpdb.org/dictionaries/mmcif_pdbx_v50.dic/Index/). This is the same dictionary used for regular PDB entries (e.g. crystal structures). Categories prefixed with `ihm` are in the [IHM dictionary](http://mmcif.wwpdb.org/dictionaries/mmcif_ihm.dic/Index/), which is specific to integrative models."
   ]
  },
  {
   "cell_type": "markdown",
   "metadata": {},
   "source": [
    "# Linking to other data {#linking}\n",
    "\n",
    "Integrative modeling draws on datasets from a variety of sources, so for a complete deposition all of this data need to be available. python-ihm provides an ``ihm.dataset`` module to describe various types of dataset, such as input experimental data, auxiliary output files (such as localization densities), or workflow files (such as Python scripts for modeling or visualization). For example, each restraint has an associated dataset:"
   ]
  },
  {
   "cell_type": "code",
   "execution_count": null,
   "metadata": {},
   "outputs": [],
   "source": [
    "print(\"restraint datasets:\", [r.dataset for r in s.restraints])"
   ]
  },
  {
   "cell_type": "markdown",
   "metadata": {},
   "source": [
    "The data are not placed directly in the mmCIF file - rather, the file contains links (using the ``ihm.location`` module). These links can be:\n",
    "\n",
    " - an identifier in a domain-specific database, such as [PDB](https://www.wwpdb.org/) or [EMDB](https://www.ebi.ac.uk/pdbe/emdb/).\n",
    " - a [DOI](https://www.doi.org/) where the files can be obtained.\n",
    " - a path to a file on the local disk.\n",
    "\n",
    "**Database identifiers** are preferable because the databases are curated by domain experts and include domain-specific information, and the files are in standard formats. ProtocolOutput will attempt to use these where possible. When a file is used for the modeling which cannot be tracked back to a database, ProtocolOutput will include its path (relative to that of the mmCIF file). For example, in this case the cross-links used are stored in simple CSV files and are linked as such:"
   ]
  },
  {
   "cell_type": "code",
   "execution_count": null,
   "metadata": {},
   "outputs": [],
   "source": [
    "# Datasets for XL-MS restraint\n",
    "for r in s.restraints:\n",
    "    if isinstance(r, ihm.restraint.CrossLinkRestraint):\n",
    "        print(\"XL-MS dataset at:\", r.dataset.location.path)\n",
    "        print(\"Details:\", r.dataset.location.details)"
   ]
  },
  {
   "cell_type": "markdown",
   "metadata": {},
   "source": [
    "In addition, the Python script itself is linked from the mmCIF file. Such local paths won't be available to end users, so for deposition we need to replace these paths with database IDs or DOIs ([more on that later](#polishing)).\n",
    "\n",
    "Datasets all support a simple hierarchy, where one dataset can be derived from another. In this case the EM restraint uses a locally-available GMM file, but it is derived from a density map which is stored in EMDB (as [EMD-1883](https://www.ebi.ac.uk/pdbe/entry/emdb/EMD-1883)). ProtocolOutput is able to read (using the [ihm.metadata module](@ref ihm.metadata)) metadata in both the GMM file and `.mrc` file to automatically determine this relationship:"
   ]
  },
  {
   "cell_type": "code",
   "execution_count": null,
   "metadata": {},
   "outputs": [],
   "source": [
    "# Dataset for EM restraint\n",
    "em, = [r for r in s.restraints\n",
    "       if isinstance(r, ihm.restraint.EM3DRestraint)]\n",
    "d = em.dataset\n",
    "print(\"GMM file at\", d.location.path)\n",
    "print(\"is derived from EMDB entry\", d.parents[0].location.access_code)"
   ]
  },
  {
   "cell_type": "markdown",
   "metadata": {},
   "source": [
    "In cases where ProtocolOutput is not able to determine the parent of a dataset, we can create a dataset manually and add it to `d.parents`, either directly or using the ``~ihm.dataset.Dataset.add_primary`` method. For example, see the [modeling of the NPC](https://github.com/integrativemodeling/npc2018/blob/main/template/1_modeling_wholeNPC.py#L1608-L1616) where we linked our EM restraint back to the parent (the density map in EMDB) and grandparent (cryo-ET tilt series in EMPIAR from which the density map was constructed)."
   ]
  },
  {
   "cell_type": "markdown",
   "metadata": {},
   "source": [
    "As a further example of linkage, see the links in the previously-published [modeling of the Nup84 complex](https://salilab.org/nup84/) below. The mmCIF file links to the data directly used in the modeling (cross-links, crystal structures, electron microscopy class averages, comparative models, and Python scripts) via database IDs or DOIs. Furthermore, where available links are provided from this often-processed data back to the original data, such\n",
    "as templates for comparative models, mass spectometry spectra for cross-links, or micrographs for class averages:\n",
    "\n",
    "<img src=\"images/links.png\" width=\"700px\" title=\"Nup84 file linkage\" />"
   ]
  },
  {
   "cell_type": "markdown",
   "metadata": {},
   "source": [
    "# Annotation of input files {#annotation}\n",
    "\n",
    "ProtocolOutput will look at all input files to try to extract as much metadata\n",
    "as possible. As [described above](#linking) this is used to look up database\n",
    "identifiers, but it can also detect other inputs, such as the templates used\n",
    "for comparative modeling. Thus, it is important for deposition that all input\n",
    "files are annotated as well as possible:\n",
    "\n",
    " - deposit input files in a domain-specific database where possible and use\n",
    "   the deposited file (which typically will contain identifying headers) in the\n",
    "   modeling repository.\n",
    " - for PDB crystal structures, do not remove the original headers, such as\n",
    "   the `HEADER` and `TITLE` lines.\n",
    " - for MODELLER comparative models, leave in the `REMARK` records and make sure\n",
    "   that any files mentioned in `REMARK   6 ALIGNMENT:` or\n",
    "   `REMARK   6 SCRIPT:` records are available (modify the paths if necessary,\n",
    "   for example if you moved the PDB file into a different directory from the\n",
    "   modeling script and alignment).\n",
    " - for manually generated PDB files, such as those extracted from a published\n",
    "   work or generated by docking or other means, add suitable `EXPDTA` and\n",
    "   `TITLE` records to the files for ProtocolOutput to pick up. See the\n",
    "   [python-ihm docs](@ref ihm.metadata.PDBParser.parse_file)\n",
    "   for more information.\n",
    " - for GMM files used for the EM density restraint, keep the original MRC\n",
    "   file around and make sure that the `# data_fn:` header in the GMM file\n",
    "   points to it."
   ]
  },
  {
   "cell_type": "markdown",
   "metadata": {},
   "source": [
    "# Polishing the deposition {#polishing}\n",
    "\n",
    "ProtocolOutput attempts to automatically generate as much as possible of the mmCIF file, but there are some areas where manual intervention is necessary because the data is missing, or its guess was incorrect. This data can be\n",
    "corrected by manipulating the [ihm.System object](@ref ihm.System) directly, at the end of the script. We will look at a few examples in this section."
   ]
  },
  {
   "cell_type": "markdown",
   "metadata": {},
   "source": [
    "## Cross-linker type {#xltype}\n",
    "\n",
    "For cross-linking experiments, the mmCIF file contains a description of the cross-linking reagent used. This information is not in the CSV file. It can be provided in the Python script with the `linker` argument to passed to the PMI ``~IMP::pmi::restraints::crosslinking::CrossLinkingMassSpectrometryRestraint``, but if this argument was missing (or incorrect) we can correct it here. By checking the publications for the cross-link datasets from [Al Burlingame's lab](https://www.mcponline.org/content/13/2/420.long) and\n",
    "[Juri Rappsilber's lab](http://emboj.embopress.org/content/29/4/717)), we can determine that the [DSS](https://en.wikipedia.org/wiki/Disuccinimidyl_suberate) and [BS3](https://en.wikipedia.org/wiki/Bissulfosuccinimidyl_suberate) cross-linkers were used, respectively. These are common enough cross-linkers that python-ihm already includes definitions for them in the ``ihm.cross_linkers`` module (for less common linkers we can create an ``ihm.ChemDescriptor`` object from scratch to describe its chemistry). Then we just set the linker type for each [cross-linking restraint](@ref ihm.restraint.CrossLinkRestraint) in the [list of all restraints](@ref ihm.System.restraints):"
   ]
  },
  {
   "cell_type": "code",
   "execution_count": null,
   "metadata": {},
   "outputs": [],
   "source": [
    "# Definitions of some common crosslinkers\n",
    "import ihm.cross_linkers\n",
    "\n",
    "# Set linker types to match those used (DSS and BS3)\n",
    "trnka, chen = [r for r in s.restraints\n",
    "               if isinstance(r, ihm.restraint.CrossLinkRestraint)]\n",
    "trnka.linker = ihm.cross_linkers.dss\n",
    "chen.linker = ihm.cross_linkers.bs3"
   ]
  },
  {
   "cell_type": "markdown",
   "metadata": {},
   "source": [
    "## Correct number of output models {#fixnummodel}\n",
    "\n",
    "ProtocolOutput captures information on the actual sampling, storing it in ``ihm.protocol.Step`` objects. Here it correctly notes that we ran Monte Carlo to generate 20000 frames:"
   ]
  },
  {
   "cell_type": "code",
   "execution_count": null,
   "metadata": {},
   "outputs": [],
   "source": [
    "# Get last step of last protocol (protocol is an 'orphan' because\n",
    "# we haven't used it for a model yet)\n",
    "last_step = s.orphan_protocols[-1].steps[-1]\n",
    "print(last_step.num_models_end)"
   ]
  },
  {
   "cell_type": "markdown",
   "metadata": {},
   "source": [
    "However, in many modeling scenarios the modeling script is run multiple times on a compute cluster to generate several independent trajectories which are then combined. ProtocolOutput cannot know whether this happened. It is straightforward though to use the python-ihm API to manually change the number of output models to match that reported in the publication:"
   ]
  },
  {
   "cell_type": "code",
   "execution_count": null,
   "metadata": {},
   "outputs": [],
   "source": [
    "# Correct number of output models to account for multiple runs\n",
    "last_step.num_models_end = 200000"
   ]
  },
  {
   "cell_type": "markdown",
   "metadata": {},
   "source": [
    "## Add model coordinates {#addcoords}\n",
    "\n",
    "The current mmCIF file contains all of the input data, and notes that Monte Carlo was used to generate frames, but doesn't actually store any of those coordinates in the file. Ultimately this information will be added automatically\n",
    "by PMI model analysis and validation scripts, but for the time being any information about clustering, localization densities, and final models needs to be added to the file using the python-ihm API:"
   ]
  },
  {
   "cell_type": "code",
   "execution_count": null,
   "metadata": {},
   "outputs": [],
   "source": [
    "# Get last protocol in the file\n",
    "protocol = po.system.orphan_protocols[-1]\n",
    "# State that we filtered the 200000 frames down to one cluster of\n",
    "# 100 models:\n",
    "analysis = ihm.analysis.Analysis()\n",
    "protocol.analyses.append(analysis)\n",
    "analysis.steps.append(ihm.analysis.ClusterStep(\n",
    "                      feature='RMSD', num_models_begin=200000,\n",
    "                      num_models_end=100))"
   ]
  },
  {
   "cell_type": "markdown",
   "metadata": {},
   "source": [
    "python-ihm allows for models to be placed into groups (``ihm.model.ModelGroup``) so we can make such a group for the cluster. These groups are in turn grouped in an ``ihm.model.State``, a distinct state of the system (e.g. open/closed form, or reactant/product in a chemical reaction). Finally, states can themselves be grouped into ``ihm.model.StateGroup`` objects. All of these groups act like regular Python lists. In this case we have only one state, so we just add our model group to that:"
   ]
  },
  {
   "cell_type": "code",
   "execution_count": null,
   "metadata": {},
   "outputs": [],
   "source": [
    "mg = ihm.model.ModelGroup(name=\"Cluster 0\")\n",
    "\n",
    "# Add to last state\n",
    "po.system.state_groups[-1][-1].append(mg)"
   ]
  },
  {
   "cell_type": "markdown",
   "metadata": {},
   "source": [
    "Next, we can describe the cluster using the ``ihm.model.Ensemble`` class, noting that it was generated from our clustering:"
   ]
  },
  {
   "cell_type": "code",
   "execution_count": null,
   "metadata": {},
   "outputs": [],
   "source": [
    "e = ihm.model.Ensemble(model_group=mg,\n",
    "                       num_models=100,\n",
    "                       post_process=analysis.steps[-1],\n",
    "                       name=\"Cluster 0\")\n",
    "po.system.ensembles.append(e)"
   ]
  },
  {
   "cell_type": "markdown",
   "metadata": {},
   "source": [
    "To add a model to the file, we create an ``ihm.model.Model`` object, add atoms or coarse-grained objects to it, and then add that to the previously-created ``~ihm.model.ModelGroup``. ProtocolOutput provides a convenience function `add_model` which does this, converting the current IMP structure to python-ihm (we just need to load an IMP structure first, e.g. from an RMF file using ``IMP.rmf.load_frame``)."
   ]
  },
  {
   "cell_type": "code",
   "execution_count": null,
   "metadata": {},
   "outputs": [],
   "source": [
    "import RMF\n",
    "import IMP.rmf\n",
    "\n",
    "# Add the model from RMF (let's say it's frame 42 from the output RMF file)\n",
    "rh = RMF.open_rmf_file_read_only('output/rmfs/0.rmf3')\n",
    "IMP.rmf.link_hierarchies(rh, [root_hier])\n",
    "IMP.rmf.load_frame(rh, RMF.FrameID(42))\n",
    "del rh\n",
    "model = po.add_model(e.model_group)"
   ]
  },
  {
   "cell_type": "markdown",
   "metadata": {},
   "source": [
    "In practice we typically want to store more than just a single model in the file, since a single model cannot represent the flexibility and variability of the complete ensemble. mmCIF files allow for storing multiple conformations (like a traditional PDB file for storing an NMR ensemble) and also representations of the entire ensemble (localization densities).\n",
    "\n",
    "However, mmCIF is a text format and is not best suited for storing large numbers of structures. We can instead store the coordinates in a simpler, binary file and link to it from the mmCIF using the ``ihm.location.OutputFileLocation`` class, providing one or more representative structures (such as the cluster centroid) in the mmCIF file itself. [DCD](https://www.ks.uiuc.edu/Research/namd/2.9/ug/node11.html) is one such format that we can (ab)use for this purpose (it is really designed for atomic trajectories). python-ihm provides an ``ihm.model.DCDWriter`` class which, given an ``ihm.model.Model``, will output DCD."
   ]
  },
  {
   "cell_type": "markdown",
   "metadata": {},
   "source": [
    "If we have localization densities from the analysis for the cluster, we can add those to the Ensemble as ``ihm.model.LocalizationDensity`` objects. These take python-ihm subunits (or subsets of them) as ``ihm.AsymUnit`` objects. ProtocolOutput provides an `asym_units` member, which is a Python dict, to get python-ihm subunits given PMI component names (such as \"Rpb4.0\"). For example, we can easily add the localization density of the Rpb4 subunit for the entire cluster to the file:"
   ]
  },
  {
   "cell_type": "code",
   "execution_count": null,
   "metadata": {},
   "outputs": [],
   "source": [
    "# Look up the ihm.AsymUnit corresponding to a PMI component name\n",
    "asym = po.asym_units['Rpb4.0']\n",
    "# Add path to a local output file\n",
    "loc = ihm.location.OutputFileLocation('output/cluster0.Rpb4.mrc')\n",
    "den = ihm.model.LocalizationDensity(file=loc, asym_unit=asym)\n",
    "# Add to ensemble\n",
    "e.densities.append(den)"
   ]
  },
  {
   "cell_type": "markdown",
   "metadata": {},
   "source": [
    "(We can also add information about the fit of the model to each of the restraints. Most python-ihm restraint objects contain a `fits` member which is a Python dict with ``ihm.model.Model`` objects as keys and some sort of restraint-fit object as values. For example, we could note that the cluster centroid model `m` was fit against the EM map by adding an ``ihm.restraint.EM3DRestraintFit`` object with the  cross correlation coefficient, if known. We could also specify the Bayesian nuisances ψ and σ for our cross-links with ``ihm.restraint.CrossLinkFit`` objects.)"
   ]
  },
  {
   "cell_type": "markdown",
   "metadata": {},
   "source": [
    "## Replace local links with DOIs {#adddois}\n",
    "\n",
    "We added paths for localization densities and the DCD file with ``ihm.location.FileLocation`` objects. These files won't be accessible to end users since they live on the local disk. ([Recall from earlier](#linking) that ProtocolOutput also adds local paths for the cross-link CSV files.)\n",
    "\n",
    "`FileLocation` takes an optional `repo` argument which, if given, is an ``ihm.location.Repository`` describing the DOI where the files can be found, generally as a `zip` file (the first argument to ``ihm.location.FileLocation`` is a path within the repository if `repo` is specified, otherwise a path on the local disk). So we could explicitly refer to a DOI for each of our external files. (A number of services provide DOIs for uploaded files, such as [Zenodo](https://zenodo.org/) or [FigShare](https://figshare.com/).)\n",
    "\n",
    "An alternative is to retroactively change the existing `FileLocation`s (both those created automatically by ProtocolOutput and manually by us using python-ihm) using the `root` and `top_directory` arguments to ``~ihm.location.Repository`` and the ``ihm.System.update_locations_in_repositories`` function:"
   ]
  },
  {
   "cell_type": "code",
   "execution_count": null,
   "metadata": {},
   "outputs": [],
   "source": [
    "# Replace local links with DOIs\n",
    "repo = ihm.location.Repository(doi=\"10.5281/zenodo.2598760\", root=\"../..\",\n",
    "                  top_directory=\"salilab-imp_deposition_tutorial-1ad5919\",\n",
    "                  url=\"https://zenodo.org/record/2598760/files/salilab/\"\n",
    "                      \"imp_deposition_tutorial-v0.2.zip\")\n",
    "s.update_locations_in_repositories([repo])"
   ]
  },
  {
   "cell_type": "markdown",
   "metadata": {},
   "source": [
    "This assumes that the zipfile at the given DOI and URL was created by archiving all files under the top directory of the [GitHub repository](https://github.com/salilab/imp_deposition_tutorial) (`../..` relative to the directory containing the script). (It was actually created automatically [by Zenodo](https://zenodo.org) when a new release of this tutorial was created on GitHub. Zenodo puts all the files in the zipfile under a uniquely-named directory, so we need to set `top_directory` to match.)\n",
    "\n",
    "> In principle archiving a GitHub repository at Zenodo is as simple as downloading the repository from GitHub as a zip file, then uploading that file to Zenodo. In practice, however, these files might be quite large, and so viewers such as ChimeraX may need to download a multi-gigabyte zip file just to get a relatively small input, such as a CSV or FASTA file. To remedy this, the repository can be split into multiple smaller zip files. See for example the multiple files archiving the [2018 NPC study](https://doi.org/10.5281/zenodo.1194547); these were generated using [this script](https://github.com/integrativemodeling/npc2018/blob/main/util/make_archive.py).\n",
    "\n",
    "Thus the cross-link file which was previously linked with the local path `../data/polii_xlinks.csv` can now be found by downloading `imp_deposition_tutorial-v0.2.zip` and extracting `salilab-imp_deposition_tutorial-1ad5919/rnapolii/data/polii_xlinks.csv` from it:"
   ]
  },
  {
   "cell_type": "code",
   "execution_count": null,
   "metadata": {},
   "outputs": [],
   "source": [
    "# Datasets for XL-MS restraint\n",
    "trnka, chen = [r for r in s.restraints\n",
    "               if isinstance(r, ihm.restraint.CrossLinkRestraint)]\n",
    "d = trnka.dataset\n",
    "print(\"XL-MS dataset now at %s/%s inside %s\"\n",
    "      % (d.location.repo.top_directory,\n",
    "         d.location.path, d.location.repo.url))"
   ]
  },
  {
   "cell_type": "markdown",
   "metadata": {},
   "source": [
    "# Output {#output}\n",
    "\n",
    "We can now save the entire protocol to an mmCIF file (or to [BinaryCIF](https://github.com/dsehnal/BinaryCIF), if we have the Python [msgpack](https://pypi.org/project/msgpack/) package installed) using the ``ihm.dumper.write`` function:"
   ]
  },
  {
   "cell_type": "code",
   "execution_count": null,
   "metadata": {},
   "outputs": [],
   "source": [
    "po.finalize()\n",
    "with open('rnapolii.cif', 'w') as fh:\n",
    "    ihm.dumper.write(fh, [po.system])\n",
    "\n",
    "#with open('rnapoliii.bcif', 'wb') as fh:\n",
    "#    ihm.dumper.write(fh, [s], format='BCIF')"
   ]
  },
  {
   "cell_type": "markdown",
   "metadata": {},
   "source": [
    "(BinaryCIF stores all the same data as mmCIF, but rather than storing it as a text file, the data is compressed and then written out as a [MessagePack](https://msgpack.org/index.html) file, which is a form of binary JSON.)"
   ]
  },
  {
   "cell_type": "markdown",
   "metadata": {},
   "source": [
    "# Visualization {#visualization}\n",
    "\n",
    "## ChimeraX {#chimerax}\n",
    "\n",
    "mmCIF files can be viewed in many viewers. However, most viewers do not yet support the integrative modeling extensions, and so may only show the atomic parts of the model (if any). Integrative models can be viewed in\n",
    "[ChimeraX](https://www.rbvi.ucsf.edu/chimerax/) - be sure to use a recent nightly build, and open the file from the ChimeraX command line using the `format ihm` option, e.g. `open rnapolii.cif format ihm`. (If you also want to see any DCD files, add `ensembles true` to the end of your command line to load them and then use the ChimeraX `coordset` command to manipulate the set of coordinates, e.g. `coordset slider #1.3.2`.)\n",
    "\n",
    "ChimeraX also supports downloading and displaying structures directly from the [PDB-Dev](https://pdb-dev.wwpdb.org/) database, for example from the ChimeraX command line `open 10 from pdbdev`.\n",
    "\n",
    "> Note that even though PDB-Dev is still quite small, the models vary widely in composition, e.g.\n",
    ">\n",
    "> - Some models (e.g. PDBDEV_00000018) are atomic and look much like a traditional \"PDB\" x-ray structure.\n",
    "> - Some models (e.g. PDBDEV_00000002) contain multiple states that have different sequences (this particular case contains exosome in nucleus-localized and cytoplasm-localized forms).\n",
    "> - Some models are not of proteins at all - e.g. PDBDEV_00000008 is a model of chromatin, part of the fly genome.\n",
    "> - Some models contain multiple representations - e.g. PDBDEV_00000012, a model of the yeast nuclear pore complex, contains both models of the scaffold (ring) and the flexible FG repeat regions which occupy the center of the pore.\n",
    "\n",
    "[VMD](http://www.ks.uiuc.edu/Research/vmd/) is also reportedly working on support in their forthcoming 1.9.4 release.\n",
    "\n",
    "An example view of the deposition, as rendered by ChimeraX, is shown below. The EM map is shown as a mesh, the DSS cross-links as green dashed lines, and the BS3 cross-links as blue dashed lines. ChimeraX also shows the comparative models used as starting guesses for the subunit structures - toggle off the display of the result models to see them.\n",
    "\n",
    "<img src=\"images/chimerax.png\" width=\"700px\" title=\"ChimeraX visualization of rnapolii mmCIF file\" />"
   ]
  },
  {
   "cell_type": "markdown",
   "metadata": {},
   "source": [
    "## Web browser {#browser}\n",
    "\n",
    "mmCIF files can also be viewed in a web browser, using [Mol* Viewer](https://molstar.org/viewer). (Note that it currently only shows the coordinates, not the experimental information or other metadata.)"
   ]
  },
  {
   "cell_type": "markdown",
   "metadata": {},
   "source": [
    "## Plain text {#plain}\n",
    "\n",
    "mmCIF files are also just plain text files, and can be viewed in any text editor (for example to check for errors, particularly for categories that ChimeraX doesn't support yet). Most of the data is stored as simple tables\n",
    "(look for the `loop_` keyword in the file). For example, the coordinates of the coarse-grained beads are stored in the [_ihm_sphere_obj_site table](http://mmcif.wwpdb.org/dictionaries/mmcif_ihm.dic/Categories/ihm_sphere_obj_site.html),\n",
    "the start of which in `rnapolii.cif` looks like:\n",
    "\n",
    "```\n",
    "loop_\n",
    "_ihm_sphere_obj_site.ordinal_id\n",
    "_ihm_sphere_obj_site.entity_id\n",
    "_ihm_sphere_obj_site.seq_id_begin\n",
    "_ihm_sphere_obj_site.seq_id_end\n",
    "_ihm_sphere_obj_site.asym_id\n",
    "_ihm_sphere_obj_site.Cartn_x\n",
    "_ihm_sphere_obj_site.Cartn_y\n",
    "_ihm_sphere_obj_site.Cartn_z\n",
    "_ihm_sphere_obj_site.object_radius\n",
    "_ihm_sphere_obj_site.rmsf\n",
    "_ihm_sphere_obj_site.model_id\n",
    "1 1 1 1 A 158.180 180.876 96.861 3.068 . 1\n",
    "2 1 2 2 A 105.913 135.689 154.058 2.888 . 1\n",
    "3 1 3 3 A 104.305 132.810 156.027 2.273 . 1\n",
    "4 1 4 4 A 101.027 134.743 156.557 3.008 . 1\n",
    "```\n",
    "\n",
    "This simply states that a sphere representing residue 1 in chain A is centered\n",
    "at (158.180, 180.876, 96.861) and has radius 3.068, and so on."
   ]
  },
  {
   "cell_type": "markdown",
   "metadata": {},
   "source": [
    "## As Python objects {#python}\n",
    "\n",
    "We can also read in mmCIF or BinaryCIF files using python-ihm's ``ihm.reader`` module and explore the data using the python-ihm API. For example, we can read the structure we just created:"
   ]
  },
  {
   "cell_type": "code",
   "execution_count": null,
   "metadata": {},
   "outputs": [],
   "source": [
    "import ihm.reader\n",
    "with open('rnapolii.cif') as fh:\n",
    "    s, = ihm.reader.read(fh)\n",
    "print(s.title, s.restraints, s.ensembles, s.state_groups)"
   ]
  },
  {
   "cell_type": "markdown",
   "metadata": {},
   "source": [
    "Similarly we could explore any integrative model deposited in PDB-Dev. For example we can look at PDB-Dev \\#14, a [HADDOCK](http://www.bonvinlab.org/software/haddock2.2/) model:"
   ]
  },
  {
   "cell_type": "code",
   "execution_count": null,
   "metadata": {},
   "outputs": [],
   "source": [
    "try:\n",
    "    import urllib.request as urllib2  # python3\n",
    "except ImportError:\n",
    "    import urllib2  # python2\n",
    "\n",
    "fh = urllib2.urlopen('https://pdb-dev.wwpdb.org/cif/PDBDEV_00000014.cif')\n",
    "s, = ihm.reader.read(fh)\n",
    "print(s.title, s.restraints, s.ensembles, s.state_groups)"
   ]
  },
  {
   "cell_type": "markdown",
   "metadata": {},
   "source": [
    "# Further reading {#further}\n",
    "\n",
    "More tutorials on using IMP are available at [the IMP web site](https://integrativemodeling.org/tutorials/)."
   ]
  }
 ],
 "metadata": {
  "kernelspec": {
   "display_name": "Python 3",
   "language": "python",
   "name": "python3"
  },
  "language_info": {
   "codemirror_mode": {
    "name": "ipython",
    "version": 3
   },
   "file_extension": ".py",
   "mimetype": "text/x-python",
   "name": "python",
   "nbconvert_exporter": "python",
   "pygments_lexer": "ipython3",
   "version": "3.9.5"
  }
 },
 "nbformat": 4,
 "nbformat_minor": 4
}
